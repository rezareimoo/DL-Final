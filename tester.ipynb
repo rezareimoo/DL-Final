{
 "cells": [
  {
   "cell_type": "code",
   "execution_count": 2,
   "metadata": {},
   "outputs": [],
   "source": [
    "import numpy as np\n",
    "import math\n",
    "import random\n",
    "import os\n",
    "import torch\n",
    "from path import Path\n",
    "import scipy.spatial.distance\n",
    "from torch.utils.data import Dataset, DataLoader\n",
    "from torchvision import transforms, utils"
   ]
  },
  {
   "cell_type": "code",
   "execution_count": 3,
   "metadata": {},
   "outputs": [],
   "source": [
    "%load_ext autoreload\n",
    "%autoreload 2"
   ]
  },
  {
   "cell_type": "code",
   "execution_count": 4,
   "metadata": {},
   "outputs": [
    {
     "name": "stdout",
     "output_type": "stream",
     "text": [
      "--2023-04-24 21:39:37--  http://3dvision.princeton.edu/projects/2014/3DShapeNets/ModelNet10.zip\n",
      "Resolving 3dvision.princeton.edu (3dvision.princeton.edu)... 128.112.136.74\n",
      "Connecting to 3dvision.princeton.edu (3dvision.princeton.edu)|128.112.136.74|:80... connected.\n",
      "HTTP request sent, awaiting response... 302 Found\n",
      "Location: https://3dvision.princeton.edu/projects/2014/3DShapeNets/ModelNet10.zip [following]\n",
      "--2023-04-24 21:39:38--  https://3dvision.princeton.edu/projects/2014/3DShapeNets/ModelNet10.zip\n",
      "Connecting to 3dvision.princeton.edu (3dvision.princeton.edu)|128.112.136.74|:443... connected.\n",
      "HTTP request sent, awaiting response... 200 OK\n",
      "Length: 473402300 (451M) [application/zip]\n",
      "Saving to: ‘ModelNet10.zip’\n",
      "\n",
      "ModelNet10.zip      100%[===================>] 451.47M  42.9MB/s    in 11s     \n",
      "\n",
      "2023-04-24 21:39:49 (40.6 MB/s) - ‘ModelNet10.zip’ saved [473402300/473402300]\n",
      "\n"
     ]
    }
   ],
   "source": [
    "!wget http://3dvision.princeton.edu/projects/2014/3DShapeNets/ModelNet10.zip"
   ]
  },
  {
   "cell_type": "code",
   "execution_count": null,
   "metadata": {},
   "outputs": [],
   "source": [
    "!unzip ModelNet10.zip"
   ]
  },
  {
   "cell_type": "code",
   "execution_count": 33,
   "metadata": {},
   "outputs": [
    {
     "data": {
      "text/plain": [
       "Path('data/ModelNet10')"
      ]
     },
     "execution_count": 33,
     "metadata": {},
     "output_type": "execute_result"
    }
   ],
   "source": [
    "path = Path(\"data/ModelNet10\")\n",
    "path"
   ]
  },
  {
   "cell_type": "code",
   "execution_count": 34,
   "metadata": {},
   "outputs": [
    {
     "data": {
      "text/plain": [
       "{'bathtub': 0,\n",
       " 'bed': 1,\n",
       " 'chair': 2,\n",
       " 'desk': 3,\n",
       " 'dresser': 4,\n",
       " 'monitor': 5,\n",
       " 'night_stand': 6,\n",
       " 'sofa': 7,\n",
       " 'table': 8,\n",
       " 'toilet': 9}"
      ]
     },
     "execution_count": 34,
     "metadata": {},
     "output_type": "execute_result"
    }
   ],
   "source": [
    "folders = [dir for dir in sorted(os.listdir(path)) if os.path.isdir(path/dir)]\n",
    "classes = {folder: i for i, folder in enumerate(folders)};\n",
    "classes"
   ]
  },
  {
   "cell_type": "code",
   "execution_count": 35,
   "metadata": {},
   "outputs": [],
   "source": [
    "from utils.preprocess import read_off"
   ]
  },
  {
   "cell_type": "code",
   "execution_count": 36,
   "metadata": {},
   "outputs": [],
   "source": [
    "with open(path/\"bed/train/bed_0001.off\", 'r') as f:\n",
    "  verts, faces = read_off(f)"
   ]
  },
  {
   "cell_type": "code",
   "execution_count": 37,
   "metadata": {},
   "outputs": [],
   "source": [
    "i,j,k = np.array(faces).T\n",
    "x,y,z = np.array(verts).T"
   ]
  },
  {
   "cell_type": "code",
   "execution_count": 38,
   "metadata": {},
   "outputs": [
    {
     "data": {
      "text/plain": [
       "2095"
      ]
     },
     "execution_count": 38,
     "metadata": {},
     "output_type": "execute_result"
    }
   ],
   "source": [
    "len(x)"
   ]
  },
  {
   "cell_type": "code",
   "execution_count": 39,
   "metadata": {},
   "outputs": [],
   "source": [
    "import utils.preprocess"
   ]
  },
  {
   "cell_type": "code",
   "execution_count": 40,
   "metadata": {},
   "outputs": [],
   "source": [
    "train_transforms = transforms.Compose([\n",
    "                    utils.preprocess.PointSampler(1024),\n",
    "                    utils.preprocess.Normalize(),\n",
    "                    utils.preprocess.RandRotation_z(),\n",
    "                    utils.preprocess.RandomNoise(),\n",
    "                    utils.preprocess.ToTensor()\n",
    "                    ])"
   ]
  },
  {
   "cell_type": "code",
   "execution_count": 41,
   "metadata": {},
   "outputs": [],
   "source": [
    "train_ds = utils.preprocess.PointCloudData(path, transform=train_transforms)\n",
    "valid_ds = utils.preprocess.PointCloudData(path, valid=True, folder='test', transform=train_transforms)"
   ]
  },
  {
   "cell_type": "code",
   "execution_count": 42,
   "metadata": {},
   "outputs": [
    {
     "data": {
      "text/plain": [
       "{0: 'bathtub',\n",
       " 1: 'bed',\n",
       " 2: 'chair',\n",
       " 3: 'desk',\n",
       " 4: 'dresser',\n",
       " 5: 'monitor',\n",
       " 6: 'night_stand',\n",
       " 7: 'sofa',\n",
       " 8: 'table',\n",
       " 9: 'toilet'}"
      ]
     },
     "execution_count": 42,
     "metadata": {},
     "output_type": "execute_result"
    }
   ],
   "source": [
    "inv_classes = {i: cat for cat, i in train_ds.classes.items()};\n",
    "inv_classes"
   ]
  },
  {
   "cell_type": "code",
   "execution_count": 43,
   "metadata": {},
   "outputs": [
    {
     "name": "stdout",
     "output_type": "stream",
     "text": [
      "Train dataset size:  3991\n",
      "Valid dataset size:  908\n",
      "Number of classes:  10\n",
      "Sample pointcloud shape:  torch.Size([1024, 3])\n",
      "Class:  chair\n"
     ]
    }
   ],
   "source": [
    "print('Train dataset size: ', len(train_ds))\n",
    "print('Valid dataset size: ', len(valid_ds))\n",
    "print('Number of classes: ', len(train_ds.classes))\n",
    "print('Sample pointcloud shape: ', train_ds[0]['pointcloud'].size())\n",
    "print('Class: ', inv_classes[train_ds[900]['category']])"
   ]
  },
  {
   "cell_type": "code",
   "execution_count": 44,
   "metadata": {},
   "outputs": [],
   "source": [
    "train_loader = DataLoader(dataset=train_ds, batch_size=32, shuffle=True)\n",
    "valid_loader = DataLoader(dataset=valid_ds, batch_size=64)"
   ]
  },
  {
   "cell_type": "code",
   "execution_count": 45,
   "metadata": {},
   "outputs": [
    {
     "name": "stdout",
     "output_type": "stream",
     "text": [
      "cuda:0\n"
     ]
    }
   ],
   "source": [
    "device = torch.device(\"cuda:0\" if torch.cuda.is_available() else \"cpu\")\n",
    "print(device)"
   ]
  },
  {
   "cell_type": "code",
   "execution_count": 46,
   "metadata": {},
   "outputs": [],
   "source": [
    "import models.PointNet"
   ]
  },
  {
   "cell_type": "code",
   "execution_count": 47,
   "metadata": {},
   "outputs": [
    {
     "data": {
      "text/plain": [
       "PointNet(\n",
       "  (transform): Transform(\n",
       "    (input_transform): Tnet(\n",
       "      (conv1): Conv1d(3, 64, kernel_size=(1,), stride=(1,))\n",
       "      (conv2): Conv1d(64, 128, kernel_size=(1,), stride=(1,))\n",
       "      (conv3): Conv1d(128, 1024, kernel_size=(1,), stride=(1,))\n",
       "      (fc1): Linear(in_features=1024, out_features=512, bias=True)\n",
       "      (fc2): Linear(in_features=512, out_features=256, bias=True)\n",
       "      (fc3): Linear(in_features=256, out_features=9, bias=True)\n",
       "      (bn1): BatchNorm1d(64, eps=1e-05, momentum=0.1, affine=True, track_running_stats=True)\n",
       "      (bn2): BatchNorm1d(128, eps=1e-05, momentum=0.1, affine=True, track_running_stats=True)\n",
       "      (bn3): BatchNorm1d(1024, eps=1e-05, momentum=0.1, affine=True, track_running_stats=True)\n",
       "      (bn4): BatchNorm1d(512, eps=1e-05, momentum=0.1, affine=True, track_running_stats=True)\n",
       "      (bn5): BatchNorm1d(256, eps=1e-05, momentum=0.1, affine=True, track_running_stats=True)\n",
       "    )\n",
       "    (feature_transform): Tnet(\n",
       "      (conv1): Conv1d(64, 64, kernel_size=(1,), stride=(1,))\n",
       "      (conv2): Conv1d(64, 128, kernel_size=(1,), stride=(1,))\n",
       "      (conv3): Conv1d(128, 1024, kernel_size=(1,), stride=(1,))\n",
       "      (fc1): Linear(in_features=1024, out_features=512, bias=True)\n",
       "      (fc2): Linear(in_features=512, out_features=256, bias=True)\n",
       "      (fc3): Linear(in_features=256, out_features=4096, bias=True)\n",
       "      (bn1): BatchNorm1d(64, eps=1e-05, momentum=0.1, affine=True, track_running_stats=True)\n",
       "      (bn2): BatchNorm1d(128, eps=1e-05, momentum=0.1, affine=True, track_running_stats=True)\n",
       "      (bn3): BatchNorm1d(1024, eps=1e-05, momentum=0.1, affine=True, track_running_stats=True)\n",
       "      (bn4): BatchNorm1d(512, eps=1e-05, momentum=0.1, affine=True, track_running_stats=True)\n",
       "      (bn5): BatchNorm1d(256, eps=1e-05, momentum=0.1, affine=True, track_running_stats=True)\n",
       "    )\n",
       "    (conv1): Conv1d(3, 64, kernel_size=(1,), stride=(1,))\n",
       "    (conv2): Conv1d(64, 128, kernel_size=(1,), stride=(1,))\n",
       "    (conv3): Conv1d(128, 1024, kernel_size=(1,), stride=(1,))\n",
       "    (bn1): BatchNorm1d(64, eps=1e-05, momentum=0.1, affine=True, track_running_stats=True)\n",
       "    (bn2): BatchNorm1d(128, eps=1e-05, momentum=0.1, affine=True, track_running_stats=True)\n",
       "    (bn3): BatchNorm1d(1024, eps=1e-05, momentum=0.1, affine=True, track_running_stats=True)\n",
       "  )\n",
       "  (fc1): Linear(in_features=1024, out_features=512, bias=True)\n",
       "  (fc2): Linear(in_features=512, out_features=256, bias=True)\n",
       "  (fc3): Linear(in_features=256, out_features=10, bias=True)\n",
       "  (bn1): BatchNorm1d(512, eps=1e-05, momentum=0.1, affine=True, track_running_stats=True)\n",
       "  (bn2): BatchNorm1d(256, eps=1e-05, momentum=0.1, affine=True, track_running_stats=True)\n",
       "  (dropout): Dropout(p=0.3, inplace=False)\n",
       "  (logsoftmax): LogSoftmax(dim=1)\n",
       ")"
      ]
     },
     "execution_count": 47,
     "metadata": {},
     "output_type": "execute_result"
    }
   ],
   "source": [
    "\n",
    "pointnet = models.PointNet.PointNet()\n",
    "pointnet.to(device)"
   ]
  },
  {
   "cell_type": "code",
   "execution_count": 48,
   "metadata": {},
   "outputs": [],
   "source": [
    "optimizer = torch.optim.Adam(pointnet.parameters(), lr=0.001)"
   ]
  },
  {
   "cell_type": "code",
   "execution_count": 49,
   "metadata": {},
   "outputs": [],
   "source": [
    "def train(model, train_loader, val_loader=None,  epochs=15, save=True):\n",
    "    for epoch in range(epochs): \n",
    "        model.train()\n",
    "        running_loss = 0.0\n",
    "        for i, data in enumerate(train_loader, 0):\n",
    "            inputs, labels = data['pointcloud'].to(device).float(), data['category'].to(device)\n",
    "            optimizer.zero_grad()\n",
    "            outputs, m3x3, m64x64 = model(inputs.transpose(1,2))\n",
    "\n",
    "            loss = models.PointNet.pointnetloss(outputs, labels, m3x3, m64x64)\n",
    "            loss.backward()\n",
    "            optimizer.step()\n",
    "\n",
    "            # print statistics\n",
    "            running_loss += loss.item()\n",
    "            if i % 10 == 9:    # print every 10 mini-batches\n",
    "                    print('[Epoch: %d, Batch: %4d / %4d], loss: %.3f' %\n",
    "                        (epoch + 1, i + 1, len(train_loader), running_loss / 10))\n",
    "                    running_loss = 0.0\n",
    "\n",
    "        model.eval()\n",
    "        correct = total = 0\n",
    "\n",
    "        # validation\n",
    "        if val_loader:\n",
    "            with torch.no_grad():\n",
    "                for data in val_loader:\n",
    "                    inputs, labels = data['pointcloud'].to(device).float(), data['category'].to(device)\n",
    "                    outputs, __, __ = model(inputs.transpose(1,2))\n",
    "                    _, predicted = torch.max(outputs.data, 1)\n",
    "                    total += labels.size(0)\n",
    "                    correct += (predicted == labels).sum().item()\n",
    "            val_acc = 100. * correct / total\n",
    "            print('Valid accuracy: %d %%' % val_acc)\n",
    "\n",
    "        # save the model\n",
    "        if save:\n",
    "            torch.save(model.state_dict(), \"save_\"+str(epoch)+\".pth\")"
   ]
  },
  {
   "cell_type": "code",
   "execution_count": 50,
   "metadata": {},
   "outputs": [
    {
     "name": "stdout",
     "output_type": "stream",
     "text": [
      "[Epoch: 1, Batch:   10 /  125], loss: 2.134\n",
      "[Epoch: 1, Batch:   20 /  125], loss: 1.736\n",
      "[Epoch: 1, Batch:   30 /  125], loss: 1.666\n",
      "[Epoch: 1, Batch:   40 /  125], loss: 1.453\n",
      "[Epoch: 1, Batch:   50 /  125], loss: 1.383\n",
      "[Epoch: 1, Batch:   60 /  125], loss: 1.273\n",
      "[Epoch: 1, Batch:   70 /  125], loss: 1.160\n",
      "[Epoch: 1, Batch:   80 /  125], loss: 1.297\n",
      "[Epoch: 1, Batch:   90 /  125], loss: 1.042\n",
      "[Epoch: 1, Batch:  100 /  125], loss: 1.040\n",
      "[Epoch: 1, Batch:  110 /  125], loss: 0.938\n",
      "[Epoch: 1, Batch:  120 /  125], loss: 1.020\n",
      "Valid accuracy: 64 %\n",
      "[Epoch: 2, Batch:   10 /  125], loss: 0.789\n",
      "[Epoch: 2, Batch:   20 /  125], loss: 0.883\n",
      "[Epoch: 2, Batch:   30 /  125], loss: 1.000\n",
      "[Epoch: 2, Batch:   40 /  125], loss: 0.865\n",
      "[Epoch: 2, Batch:   50 /  125], loss: 0.741\n",
      "[Epoch: 2, Batch:   60 /  125], loss: 0.643\n",
      "[Epoch: 2, Batch:   70 /  125], loss: 0.694\n",
      "[Epoch: 2, Batch:   80 /  125], loss: 0.690\n",
      "[Epoch: 2, Batch:   90 /  125], loss: 0.755\n",
      "[Epoch: 2, Batch:  100 /  125], loss: 0.697\n",
      "[Epoch: 2, Batch:  110 /  125], loss: 0.692\n",
      "[Epoch: 2, Batch:  120 /  125], loss: 0.887\n",
      "Valid accuracy: 66 %\n",
      "[Epoch: 3, Batch:   10 /  125], loss: 0.678\n",
      "[Epoch: 3, Batch:   20 /  125], loss: 0.576\n",
      "[Epoch: 3, Batch:   30 /  125], loss: 0.629\n",
      "[Epoch: 3, Batch:   40 /  125], loss: 0.776\n",
      "[Epoch: 3, Batch:   50 /  125], loss: 0.681\n",
      "[Epoch: 3, Batch:   60 /  125], loss: 0.763\n",
      "[Epoch: 3, Batch:   70 /  125], loss: 0.639\n",
      "[Epoch: 3, Batch:   80 /  125], loss: 0.614\n",
      "[Epoch: 3, Batch:   90 /  125], loss: 0.565\n",
      "[Epoch: 3, Batch:  100 /  125], loss: 0.602\n",
      "[Epoch: 3, Batch:  110 /  125], loss: 0.603\n",
      "[Epoch: 3, Batch:  120 /  125], loss: 0.568\n",
      "Valid accuracy: 75 %\n",
      "[Epoch: 4, Batch:   10 /  125], loss: 0.678\n",
      "[Epoch: 4, Batch:   20 /  125], loss: 0.647\n",
      "[Epoch: 4, Batch:   30 /  125], loss: 0.691\n",
      "[Epoch: 4, Batch:   40 /  125], loss: 0.617\n",
      "[Epoch: 4, Batch:   50 /  125], loss: 0.598\n",
      "[Epoch: 4, Batch:   60 /  125], loss: 0.576\n",
      "[Epoch: 4, Batch:   70 /  125], loss: 0.477\n",
      "[Epoch: 4, Batch:   80 /  125], loss: 0.531\n",
      "[Epoch: 4, Batch:   90 /  125], loss: 0.597\n",
      "[Epoch: 4, Batch:  100 /  125], loss: 0.552\n",
      "[Epoch: 4, Batch:  110 /  125], loss: 0.551\n",
      "[Epoch: 4, Batch:  120 /  125], loss: 0.590\n",
      "Valid accuracy: 75 %\n",
      "[Epoch: 5, Batch:   10 /  125], loss: 0.587\n",
      "[Epoch: 5, Batch:   20 /  125], loss: 0.566\n",
      "[Epoch: 5, Batch:   30 /  125], loss: 0.444\n",
      "[Epoch: 5, Batch:   40 /  125], loss: 0.521\n",
      "[Epoch: 5, Batch:   50 /  125], loss: 0.540\n",
      "[Epoch: 5, Batch:   60 /  125], loss: 0.497\n",
      "[Epoch: 5, Batch:   70 /  125], loss: 0.600\n",
      "[Epoch: 5, Batch:   80 /  125], loss: 0.508\n",
      "[Epoch: 5, Batch:   90 /  125], loss: 0.497\n",
      "[Epoch: 5, Batch:  100 /  125], loss: 0.484\n",
      "[Epoch: 5, Batch:  110 /  125], loss: 0.486\n",
      "[Epoch: 5, Batch:  120 /  125], loss: 0.506\n",
      "Valid accuracy: 62 %\n",
      "[Epoch: 6, Batch:   10 /  125], loss: 0.522\n",
      "[Epoch: 6, Batch:   20 /  125], loss: 0.560\n",
      "[Epoch: 6, Batch:   30 /  125], loss: 0.486\n",
      "[Epoch: 6, Batch:   40 /  125], loss: 0.479\n",
      "[Epoch: 6, Batch:   50 /  125], loss: 0.437\n",
      "[Epoch: 6, Batch:   60 /  125], loss: 0.426\n",
      "[Epoch: 6, Batch:   70 /  125], loss: 0.495\n",
      "[Epoch: 6, Batch:   80 /  125], loss: 0.486\n",
      "[Epoch: 6, Batch:   90 /  125], loss: 0.514\n",
      "[Epoch: 6, Batch:  100 /  125], loss: 0.475\n",
      "[Epoch: 6, Batch:  110 /  125], loss: 0.492\n",
      "[Epoch: 6, Batch:  120 /  125], loss: 0.483\n",
      "Valid accuracy: 80 %\n",
      "[Epoch: 7, Batch:   10 /  125], loss: 0.410\n",
      "[Epoch: 7, Batch:   20 /  125], loss: 0.432\n",
      "[Epoch: 7, Batch:   30 /  125], loss: 0.402\n",
      "[Epoch: 7, Batch:   40 /  125], loss: 0.357\n",
      "[Epoch: 7, Batch:   50 /  125], loss: 0.448\n",
      "[Epoch: 7, Batch:   60 /  125], loss: 0.521\n",
      "[Epoch: 7, Batch:   70 /  125], loss: 0.467\n",
      "[Epoch: 7, Batch:   80 /  125], loss: 0.462\n",
      "[Epoch: 7, Batch:   90 /  125], loss: 0.564\n",
      "[Epoch: 7, Batch:  100 /  125], loss: 0.512\n",
      "[Epoch: 7, Batch:  110 /  125], loss: 0.527\n",
      "[Epoch: 7, Batch:  120 /  125], loss: 0.484\n",
      "Valid accuracy: 82 %\n",
      "[Epoch: 8, Batch:   10 /  125], loss: 0.491\n",
      "[Epoch: 8, Batch:   20 /  125], loss: 0.511\n",
      "[Epoch: 8, Batch:   30 /  125], loss: 0.331\n",
      "[Epoch: 8, Batch:   40 /  125], loss: 0.364\n",
      "[Epoch: 8, Batch:   50 /  125], loss: 0.427\n",
      "[Epoch: 8, Batch:   60 /  125], loss: 0.452\n",
      "[Epoch: 8, Batch:   70 /  125], loss: 0.399\n",
      "[Epoch: 8, Batch:   80 /  125], loss: 0.405\n",
      "[Epoch: 8, Batch:   90 /  125], loss: 0.430\n",
      "[Epoch: 8, Batch:  100 /  125], loss: 0.432\n",
      "[Epoch: 8, Batch:  110 /  125], loss: 0.426\n",
      "[Epoch: 8, Batch:  120 /  125], loss: 0.484\n",
      "Valid accuracy: 84 %\n",
      "[Epoch: 9, Batch:   10 /  125], loss: 0.484\n",
      "[Epoch: 9, Batch:   20 /  125], loss: 0.429\n",
      "[Epoch: 9, Batch:   30 /  125], loss: 0.427\n",
      "[Epoch: 9, Batch:   40 /  125], loss: 0.429\n",
      "[Epoch: 9, Batch:   50 /  125], loss: 0.385\n",
      "[Epoch: 9, Batch:   60 /  125], loss: 0.361\n",
      "[Epoch: 9, Batch:   70 /  125], loss: 0.476\n",
      "[Epoch: 9, Batch:   80 /  125], loss: 0.496\n",
      "[Epoch: 9, Batch:   90 /  125], loss: 0.386\n",
      "[Epoch: 9, Batch:  100 /  125], loss: 0.330\n",
      "[Epoch: 9, Batch:  110 /  125], loss: 0.306\n",
      "[Epoch: 9, Batch:  120 /  125], loss: 0.471\n",
      "Valid accuracy: 80 %\n",
      "[Epoch: 10, Batch:   10 /  125], loss: 0.301\n",
      "[Epoch: 10, Batch:   20 /  125], loss: 0.501\n",
      "[Epoch: 10, Batch:   30 /  125], loss: 0.413\n",
      "[Epoch: 10, Batch:   40 /  125], loss: 0.412\n",
      "[Epoch: 10, Batch:   50 /  125], loss: 0.413\n",
      "[Epoch: 10, Batch:   60 /  125], loss: 0.397\n",
      "[Epoch: 10, Batch:   70 /  125], loss: 0.455\n",
      "[Epoch: 10, Batch:   80 /  125], loss: 0.514\n",
      "[Epoch: 10, Batch:   90 /  125], loss: 0.391\n",
      "[Epoch: 10, Batch:  100 /  125], loss: 0.436\n",
      "[Epoch: 10, Batch:  110 /  125], loss: 0.376\n",
      "[Epoch: 10, Batch:  120 /  125], loss: 0.400\n",
      "Valid accuracy: 82 %\n",
      "[Epoch: 11, Batch:   10 /  125], loss: 0.425\n",
      "[Epoch: 11, Batch:   20 /  125], loss: 0.370\n",
      "[Epoch: 11, Batch:   30 /  125], loss: 0.423\n",
      "[Epoch: 11, Batch:   40 /  125], loss: 0.457\n",
      "[Epoch: 11, Batch:   50 /  125], loss: 0.415\n",
      "[Epoch: 11, Batch:   60 /  125], loss: 0.377\n",
      "[Epoch: 11, Batch:   70 /  125], loss: 0.346\n",
      "[Epoch: 11, Batch:   80 /  125], loss: 0.420\n",
      "[Epoch: 11, Batch:   90 /  125], loss: 0.409\n",
      "[Epoch: 11, Batch:  100 /  125], loss: 0.341\n",
      "[Epoch: 11, Batch:  110 /  125], loss: 0.345\n",
      "[Epoch: 11, Batch:  120 /  125], loss: 0.493\n",
      "Valid accuracy: 84 %\n",
      "[Epoch: 12, Batch:   10 /  125], loss: 0.345\n",
      "[Epoch: 12, Batch:   20 /  125], loss: 0.385\n",
      "[Epoch: 12, Batch:   30 /  125], loss: 0.421\n",
      "[Epoch: 12, Batch:   40 /  125], loss: 0.391\n",
      "[Epoch: 12, Batch:   50 /  125], loss: 0.441\n",
      "[Epoch: 12, Batch:   60 /  125], loss: 0.325\n",
      "[Epoch: 12, Batch:   70 /  125], loss: 0.377\n",
      "[Epoch: 12, Batch:   80 /  125], loss: 0.478\n",
      "[Epoch: 12, Batch:   90 /  125], loss: 0.470\n",
      "[Epoch: 12, Batch:  100 /  125], loss: 0.347\n",
      "[Epoch: 12, Batch:  110 /  125], loss: 0.379\n",
      "[Epoch: 12, Batch:  120 /  125], loss: 0.419\n",
      "Valid accuracy: 86 %\n",
      "[Epoch: 13, Batch:   10 /  125], loss: 0.462\n",
      "[Epoch: 13, Batch:   20 /  125], loss: 0.335\n",
      "[Epoch: 13, Batch:   30 /  125], loss: 0.411\n",
      "[Epoch: 13, Batch:   40 /  125], loss: 0.364\n",
      "[Epoch: 13, Batch:   50 /  125], loss: 0.382\n",
      "[Epoch: 13, Batch:   60 /  125], loss: 0.349\n",
      "[Epoch: 13, Batch:   70 /  125], loss: 0.341\n",
      "[Epoch: 13, Batch:   80 /  125], loss: 0.399\n",
      "[Epoch: 13, Batch:   90 /  125], loss: 0.347\n",
      "[Epoch: 13, Batch:  100 /  125], loss: 0.370\n",
      "[Epoch: 13, Batch:  110 /  125], loss: 0.358\n",
      "[Epoch: 13, Batch:  120 /  125], loss: 0.420\n",
      "Valid accuracy: 83 %\n",
      "[Epoch: 14, Batch:   10 /  125], loss: 0.350\n",
      "[Epoch: 14, Batch:   20 /  125], loss: 0.297\n",
      "[Epoch: 14, Batch:   30 /  125], loss: 0.330\n",
      "[Epoch: 14, Batch:   40 /  125], loss: 0.340\n",
      "[Epoch: 14, Batch:   50 /  125], loss: 0.340\n",
      "[Epoch: 14, Batch:   60 /  125], loss: 0.405\n",
      "[Epoch: 14, Batch:   70 /  125], loss: 0.369\n",
      "[Epoch: 14, Batch:   80 /  125], loss: 0.378\n",
      "[Epoch: 14, Batch:   90 /  125], loss: 0.331\n",
      "[Epoch: 14, Batch:  100 /  125], loss: 0.386\n",
      "[Epoch: 14, Batch:  110 /  125], loss: 0.392\n",
      "[Epoch: 14, Batch:  120 /  125], loss: 0.399\n",
      "Valid accuracy: 76 %\n",
      "[Epoch: 15, Batch:   10 /  125], loss: 0.328\n",
      "[Epoch: 15, Batch:   20 /  125], loss: 0.351\n",
      "[Epoch: 15, Batch:   30 /  125], loss: 0.287\n",
      "[Epoch: 15, Batch:   40 /  125], loss: 0.350\n",
      "[Epoch: 15, Batch:   50 /  125], loss: 0.306\n",
      "[Epoch: 15, Batch:   60 /  125], loss: 0.421\n",
      "[Epoch: 15, Batch:   70 /  125], loss: 0.410\n",
      "[Epoch: 15, Batch:   80 /  125], loss: 0.342\n",
      "[Epoch: 15, Batch:   90 /  125], loss: 0.291\n",
      "[Epoch: 15, Batch:  100 /  125], loss: 0.358\n",
      "[Epoch: 15, Batch:  110 /  125], loss: 0.517\n",
      "[Epoch: 15, Batch:  120 /  125], loss: 0.281\n",
      "Valid accuracy: 76 %\n"
     ]
    }
   ],
   "source": [
    "train(pointnet, train_loader, valid_loader,  save=True)"
   ]
  },
  {
   "cell_type": "code",
   "execution_count": 51,
   "metadata": {},
   "outputs": [],
   "source": [
    "from sklearn.metrics import confusion_matrix\n",
    "     "
   ]
  },
  {
   "cell_type": "code",
   "execution_count": 55,
   "metadata": {},
   "outputs": [],
   "source": [
    "pointnet.load_state_dict(torch.load('save_14.pth'))\n",
    "pointnet.eval();\n",
    "     "
   ]
  },
  {
   "cell_type": "code",
   "execution_count": 58,
   "metadata": {},
   "outputs": [
    {
     "name": "stdout",
     "output_type": "stream",
     "text": [
      "Batch [   1 /   15]\n",
      "Batch [   2 /   15]\n",
      "Batch [   3 /   15]\n",
      "Batch [   4 /   15]\n",
      "Batch [   5 /   15]\n",
      "Batch [   6 /   15]\n",
      "Batch [   7 /   15]\n",
      "Batch [   8 /   15]\n",
      "Batch [   9 /   15]\n",
      "Batch [  10 /   15]\n",
      "Batch [  11 /   15]\n",
      "Batch [  12 /   15]\n",
      "Batch [  13 /   15]\n",
      "Batch [  14 /   15]\n",
      "Batch [  15 /   15]\n"
     ]
    }
   ],
   "source": [
    "all_preds = []\n",
    "all_labels = []\n",
    "with torch.no_grad():\n",
    "    for i, data in enumerate(valid_loader):\n",
    "        print('Batch [%4d / %4d]' % (i+1, len(valid_loader)))\n",
    "                   \n",
    "        inputs, labels = data['pointcloud'].to(device).float(), data['category'].to(device)\n",
    "        outputs, __, __ = pointnet(inputs.transpose(1,2))\n",
    "        _, preds = torch.max(outputs.data, 1)\n",
    "        all_preds += list(preds.cpu().numpy())\n",
    "        all_labels += list(labels.cpu().numpy())"
   ]
  },
  {
   "cell_type": "code",
   "execution_count": 59,
   "metadata": {},
   "outputs": [
    {
     "data": {
      "text/plain": [
       "array([[40,  9,  0,  0,  0,  0,  0,  0,  1,  0],\n",
       "       [ 0, 91,  4,  0,  0,  0,  0,  1,  4,  0],\n",
       "       [ 0,  0, 99,  1,  0,  0,  0,  0,  0,  0],\n",
       "       [ 0,  0,  4, 56,  0,  0,  8,  1, 14,  3],\n",
       "       [ 0,  0,  1,  0,  4,  0, 78,  0,  2,  1],\n",
       "       [ 0,  0,  1,  1,  6, 85,  6,  0,  0,  1],\n",
       "       [ 0,  0,  2,  0,  0,  0, 73,  0, 11,  0],\n",
       "       [ 2,  5,  1,  1,  0,  0,  1, 88,  0,  2],\n",
       "       [ 0,  0,  0, 22,  0,  0,  1,  0, 77,  0],\n",
       "       [ 0,  0, 12,  1,  0,  0,  3,  0,  0, 84]])"
      ]
     },
     "execution_count": 59,
     "metadata": {},
     "output_type": "execute_result"
    }
   ],
   "source": [
    "cm = confusion_matrix(all_labels, all_preds);\n",
    "cm\n"
   ]
  },
  {
   "cell_type": "code",
   "execution_count": 61,
   "metadata": {},
   "outputs": [],
   "source": [
    "import itertools\n",
    "import numpy as np\n",
    "import matplotlib.pyplot as plt\n",
    "\n",
    "# function from https://deeplizard.com/learn/video/0LhiS6yu2qQ\n",
    "def plot_confusion_matrix(cm, classes, normalize=False, title='Confusion matrix', cmap=plt.cm.Blues):\n",
    "    if normalize:\n",
    "        cm = cm.astype('float') / cm.sum(axis=1)[:, np.newaxis]\n",
    "        print(\"Normalized confusion matrix\")\n",
    "    else:\n",
    "        print('Confusion matrix, without normalization')\n",
    "\n",
    "    plt.imshow(cm, interpolation='nearest', cmap=cmap)\n",
    "    plt.title(title)\n",
    "    plt.colorbar()\n",
    "    tick_marks = np.arange(len(classes))\n",
    "    plt.xticks(tick_marks, classes, rotation=45)\n",
    "    plt.yticks(tick_marks, classes)\n",
    "\n",
    "    fmt = '.2f' if normalize else 'd'\n",
    "    thresh = cm.max() / 2.\n",
    "    for i, j in itertools.product(range(cm.shape[0]), range(cm.shape[1])):\n",
    "        plt.text(j, i, format(cm[i, j], fmt), horizontalalignment=\"center\", color=\"white\" if cm[i, j] > thresh else \"black\")\n",
    "\n",
    "    plt.tight_layout()\n",
    "    plt.ylabel('True label')\n",
    "    plt.xlabel('Predicted label')"
   ]
  },
  {
   "cell_type": "code",
   "execution_count": 62,
   "metadata": {},
   "outputs": [
    {
     "name": "stdout",
     "output_type": "stream",
     "text": [
      "Normalized confusion matrix\n"
     ]
    },
    {
     "data": {
      "image/png": "[encoded data removed]",
      "text/plain": [
       "<Figure size 800x800 with 2 Axes>"
      ]
     },
     "metadata": {},
     "output_type": "display_data"
    }
   ],
   "source": [
    "plt.figure(figsize=(8,8))\n",
    "plot_confusion_matrix(cm, list(classes.keys()), normalize=True)"
   ]
  },
  {
   "cell_type": "code",
   "execution_count": null,
   "metadata": {},
   "outputs": [],
   "source": []
  }
 ],
 "metadata": {
  "environment": {
   "kernel": "python3",
   "name": "pytorch-gpu.1-13.m107",
   "type": "gcloud",
   "uri": "gcr.io/deeplearning-platform-release/pytorch-gpu.1-13:m107"
  },
  "kernelspec": {
   "display_name": "Python 3",
   "language": "python",
   "name": "python3"
  },
  "language_info": {
   "codemirror_mode": {
    "name": "ipython",
    "version": 3
   },
   "file_extension": ".py",
   "mimetype": "text/x-python",
   "name": "python",
   "nbconvert_exporter": "python",
   "pygments_lexer": "ipython3",
   "version": "3.7.12"
  }
 },
 "nbformat": 4,
 "nbformat_minor": 4
}
