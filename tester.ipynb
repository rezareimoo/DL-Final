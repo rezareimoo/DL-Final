{
 "cells": [
  {
   "cell_type": "code",
   "execution_count": 1,
   "metadata": {},
   "outputs": [
    {
     "name": "stderr",
     "output_type": "stream",
     "text": [
      "/Users/aizhan/opt/anaconda3/lib/python3.9/site-packages/torchvision/io/image.py:13: UserWarning: Failed to load image Python extension: dlopen(/Users/aizhan/opt/anaconda3/lib/python3.9/site-packages/torchvision/image.so, 6): Library not loaded: @rpath/libjpeg.9.dylib\n",
      "  Referenced from: /Users/aizhan/opt/anaconda3/lib/python3.9/site-packages/torchvision/image.so\n",
      "  Reason: Incompatible library version: image.so requires version 15.0.0 or later, but libjpeg.9.dylib provides version 14.0.0\n",
      "  warn(f\"Failed to load image Python extension: {e}\")\n"
     ]
    }
   ],
   "source": [
    "import numpy as np\n",
    "import math\n",
    "import random\n",
    "import os\n",
    "import torch\n",
    "from path import Path\n",
    "import scipy.spatial.distance\n",
    "from torch.utils.data import Dataset, DataLoader\n",
    "from torchvision import transforms, utils"
   ]
  },
  {
   "cell_type": "code",
   "execution_count": 2,
   "metadata": {},
   "outputs": [],
   "source": [
    "%load_ext autoreload\n",
    "%autoreload 2"
   ]
  },
  {
   "cell_type": "code",
   "execution_count": 3,
   "metadata": {},
   "outputs": [
    {
     "data": {
      "text/plain": [
       "Path('data/ModelNet10')"
      ]
     },
     "execution_count": 3,
     "metadata": {},
     "output_type": "execute_result"
    }
   ],
   "source": [
    "path = Path(\"data/ModelNet10\")\n",
    "path"
   ]
  },
  {
   "cell_type": "code",
   "execution_count": 4,
   "metadata": {},
   "outputs": [
    {
     "data": {
      "text/plain": [
       "{'bathtub': 0,\n",
       " 'bed': 1,\n",
       " 'chair': 2,\n",
       " 'desk': 3,\n",
       " 'dresser': 4,\n",
       " 'monitor': 5,\n",
       " 'night_stand': 6,\n",
       " 'sofa': 7,\n",
       " 'table': 8,\n",
       " 'toilet': 9}"
      ]
     },
     "execution_count": 4,
     "metadata": {},
     "output_type": "execute_result"
    }
   ],
   "source": [
    "folders = [dir for dir in sorted(os.listdir(path)) if os.path.isdir(path/dir)]\n",
    "classes = {folder: i for i, folder in enumerate(folders)};\n",
    "classes"
   ]
  },
  {
   "cell_type": "code",
   "execution_count": 5,
   "metadata": {},
   "outputs": [],
   "source": [
    "from utils.preprocess import read_off"
   ]
  },
  {
   "cell_type": "code",
   "execution_count": 6,
   "metadata": {},
   "outputs": [
    {
     "name": "stdout",
     "output_type": "stream",
     "text": [
      "2095\n"
     ]
    }
   ],
   "source": [
    "with open(path/\"bed/train/bed_0001.off\", 'r') as f:\n",
    "  verts, faces = read_off(f)\n",
    "  print(len(verts))"
   ]
  },
  {
   "cell_type": "code",
   "execution_count": 7,
   "metadata": {},
   "outputs": [],
   "source": [
    "i,j,k = np.array(faces).T\n",
    "x,y,z = np.array(verts).T"
   ]
  },
  {
   "cell_type": "code",
   "execution_count": 8,
   "metadata": {},
   "outputs": [
    {
     "data": {
      "text/plain": [
       "2095"
      ]
     },
     "execution_count": 8,
     "metadata": {},
     "output_type": "execute_result"
    }
   ],
   "source": [
    "len(x)"
   ]
  },
  {
   "cell_type": "code",
   "execution_count": 9,
   "metadata": {},
   "outputs": [],
   "source": [
    "import utils.preprocess"
   ]
  },
  {
   "cell_type": "code",
   "execution_count": 10,
   "metadata": {},
   "outputs": [],
   "source": [
    "train_transforms = transforms.Compose([\n",
    "                    utils.preprocess.PointSampler(2048),\n",
    "                    utils.preprocess.Normalize(),\n",
    "                    utils.preprocess.RandRotation_z(),\n",
    "                    utils.preprocess.RandomNoise(),\n",
    "                    utils.preprocess.ToTensor()\n",
    "                    ])"
   ]
  },
  {
   "cell_type": "code",
   "execution_count": 11,
   "metadata": {},
   "outputs": [],
   "source": [
    "train_ds = utils.preprocess.PointCloudData(path, transform=train_transforms)\n",
    "valid_ds = utils.preprocess.PointCloudData(path, valid=True, folder='test', transform=train_transforms)"
   ]
  },
  {
   "cell_type": "code",
   "execution_count": 12,
   "metadata": {},
   "outputs": [
    {
     "data": {
      "text/plain": [
       "{0: 'bathtub',\n",
       " 1: 'bed',\n",
       " 2: 'chair',\n",
       " 3: 'desk',\n",
       " 4: 'dresser',\n",
       " 5: 'monitor',\n",
       " 6: 'night_stand',\n",
       " 7: 'sofa',\n",
       " 8: 'table',\n",
       " 9: 'toilet'}"
      ]
     },
     "execution_count": 12,
     "metadata": {},
     "output_type": "execute_result"
    }
   ],
   "source": [
    "inv_classes = {i: cat for cat, i in train_ds.classes.items()};\n",
    "inv_classes"
   ]
  },
  {
   "cell_type": "code",
   "execution_count": 13,
   "metadata": {},
   "outputs": [
    {
     "name": "stdout",
     "output_type": "stream",
     "text": [
      "Train dataset size:  3991\n",
      "Valid dataset size:  908\n",
      "Number of classes:  10\n",
      "Sample pointcloud shape:  torch.Size([2048, 3])\n",
      "Class:  chair\n"
     ]
    }
   ],
   "source": [
    "print('Train dataset size: ', len(train_ds))\n",
    "print('Valid dataset size: ', len(valid_ds))\n",
    "print('Number of classes: ', len(train_ds.classes))\n",
    "print('Sample pointcloud shape: ', train_ds[0]['pointcloud'].size())\n",
    "print('Class: ', inv_classes[train_ds[900]['category']])"
   ]
  },
  {
   "cell_type": "code",
   "execution_count": 14,
   "metadata": {},
   "outputs": [],
   "source": [
    "train_loader = DataLoader(dataset=train_ds, batch_size=32, shuffle=True)\n",
    "valid_loader = DataLoader(dataset=valid_ds, batch_size=64)"
   ]
  },
  {
   "cell_type": "code",
   "execution_count": 15,
   "metadata": {},
   "outputs": [
    {
     "name": "stdout",
     "output_type": "stream",
     "text": [
      "cpu\n"
     ]
    }
   ],
   "source": [
    "device = torch.device(\"cuda:0\" if torch.cuda.is_available() else \"cpu\")\n",
    "print(device)"
   ]
  },
  {
   "cell_type": "code",
   "execution_count": 16,
   "metadata": {},
   "outputs": [],
   "source": [
    "import models.PointNet"
   ]
  },
  {
   "cell_type": "code",
   "execution_count": 17,
   "metadata": {},
   "outputs": [
    {
     "data": {
      "text/plain": [
       "PointNet(\n",
       "  (transform): Transform(\n",
       "    (input_transform): Tnet(\n",
       "      (conv1): Conv1d(3, 64, kernel_size=(1,), stride=(1,))\n",
       "      (conv2): Conv1d(64, 128, kernel_size=(1,), stride=(1,))\n",
       "      (conv3): Conv1d(128, 1024, kernel_size=(1,), stride=(1,))\n",
       "      (fc1): Linear(in_features=1024, out_features=512, bias=True)\n",
       "      (fc2): Linear(in_features=512, out_features=256, bias=True)\n",
       "      (fc3): Linear(in_features=256, out_features=9, bias=True)\n",
       "      (bn1): BatchNorm1d(64, eps=1e-05, momentum=0.1, affine=True, track_running_stats=True)\n",
       "      (bn2): BatchNorm1d(128, eps=1e-05, momentum=0.1, affine=True, track_running_stats=True)\n",
       "      (bn3): BatchNorm1d(1024, eps=1e-05, momentum=0.1, affine=True, track_running_stats=True)\n",
       "      (bn4): BatchNorm1d(512, eps=1e-05, momentum=0.1, affine=True, track_running_stats=True)\n",
       "      (bn5): BatchNorm1d(256, eps=1e-05, momentum=0.1, affine=True, track_running_stats=True)\n",
       "    )\n",
       "    (feature_transform): Tnet(\n",
       "      (conv1): Conv1d(64, 64, kernel_size=(1,), stride=(1,))\n",
       "      (conv2): Conv1d(64, 128, kernel_size=(1,), stride=(1,))\n",
       "      (conv3): Conv1d(128, 1024, kernel_size=(1,), stride=(1,))\n",
       "      (fc1): Linear(in_features=1024, out_features=512, bias=True)\n",
       "      (fc2): Linear(in_features=512, out_features=256, bias=True)\n",
       "      (fc3): Linear(in_features=256, out_features=4096, bias=True)\n",
       "      (bn1): BatchNorm1d(64, eps=1e-05, momentum=0.1, affine=True, track_running_stats=True)\n",
       "      (bn2): BatchNorm1d(128, eps=1e-05, momentum=0.1, affine=True, track_running_stats=True)\n",
       "      (bn3): BatchNorm1d(1024, eps=1e-05, momentum=0.1, affine=True, track_running_stats=True)\n",
       "      (bn4): BatchNorm1d(512, eps=1e-05, momentum=0.1, affine=True, track_running_stats=True)\n",
       "      (bn5): BatchNorm1d(256, eps=1e-05, momentum=0.1, affine=True, track_running_stats=True)\n",
       "    )\n",
       "    (conv1): Conv1d(3, 64, kernel_size=(1,), stride=(1,))\n",
       "    (conv2): Conv1d(64, 128, kernel_size=(1,), stride=(1,))\n",
       "    (conv3): Conv1d(128, 1024, kernel_size=(1,), stride=(1,))\n",
       "    (bn1): BatchNorm1d(64, eps=1e-05, momentum=0.1, affine=True, track_running_stats=True)\n",
       "    (bn2): BatchNorm1d(128, eps=1e-05, momentum=0.1, affine=True, track_running_stats=True)\n",
       "    (bn3): BatchNorm1d(1024, eps=1e-05, momentum=0.1, affine=True, track_running_stats=True)\n",
       "  )\n",
       "  (fc1): Linear(in_features=1024, out_features=512, bias=True)\n",
       "  (fc2): Linear(in_features=512, out_features=256, bias=True)\n",
       "  (fc3): Linear(in_features=256, out_features=10, bias=True)\n",
       "  (bn1): BatchNorm1d(512, eps=1e-05, momentum=0.1, affine=True, track_running_stats=True)\n",
       "  (bn2): BatchNorm1d(256, eps=1e-05, momentum=0.1, affine=True, track_running_stats=True)\n",
       "  (dropout): Dropout(p=0.3, inplace=False)\n",
       "  (logsoftmax): LogSoftmax(dim=1)\n",
       ")"
      ]
     },
     "execution_count": 17,
     "metadata": {},
     "output_type": "execute_result"
    }
   ],
   "source": [
    "\n",
    "pointnet = models.PointNet.PointNet()\n",
    "pointnet.to(device)"
   ]
  },
  {
   "cell_type": "code",
   "execution_count": 18,
   "metadata": {},
   "outputs": [],
   "source": [
    "optimizer = torch.optim.Adam(pointnet.parameters(), lr=0.001)"
   ]
  },
  {
   "cell_type": "code",
   "execution_count": 19,
   "metadata": {},
   "outputs": [],
   "source": [
    "def train(model, train_loader, val_loader=None,  epochs=15, save=True):\n",
    "    for epoch in range(epochs): \n",
    "        model.train()\n",
    "        running_loss = 0.0\n",
    "        for i, data in enumerate(train_loader, 0):\n",
    "            inputs, labels = data['pointcloud'].to(device).float(), data['category'].to(device)\n",
    "            optimizer.zero_grad()\n",
    "            outputs, m3x3, m64x64 = model(inputs.transpose(1,2))\n",
    "\n",
    "            loss = models.PointNet.pointnetloss(outputs, labels, m3x3, m64x64)\n",
    "            loss.backward()\n",
    "            optimizer.step()\n",
    "\n",
    "            # print statistics\n",
    "            running_loss += loss.item()\n",
    "            if i % 10 == 9:    # print every 10 mini-batches\n",
    "                    print('[Epoch: %d, Batch: %4d / %4d], loss: %.3f' %\n",
    "                        (epoch + 1, i + 1, len(train_loader), running_loss / 10))\n",
    "                    running_loss = 0.0\n",
    "\n",
    "        model.eval()\n",
    "        correct = total = 0\n",
    "\n",
    "        # validation\n",
    "        if val_loader:\n",
    "            with torch.no_grad():\n",
    "                for data in val_loader:\n",
    "                    inputs, labels = data['pointcloud'].to(device).float(), data['category'].to(device)\n",
    "                    outputs, __, __ = model(inputs.transpose(1,2))\n",
    "                    _, predicted = torch.max(outputs.data, 1)\n",
    "                    total += labels.size(0)\n",
    "                    correct += (predicted == labels).sum().item()\n",
    "            val_acc = 100. * correct / total\n",
    "            print('Valid accuracy: %d %%' % val_acc)\n",
    "\n",
    "        # save the model\n",
    "        if save:\n",
    "            torch.save(model.state_dict(), \"save_\"+str(epoch)+\".pth\")"
   ]
  },
  {
   "cell_type": "code",
   "execution_count": 20,
   "metadata": {},
   "outputs": [
    {
     "name": "stdout",
     "output_type": "stream",
     "text": [
      "[Epoch: 1, Batch:   10 /  125], loss: 1.981\n",
      "[Epoch: 1, Batch:   20 /  125], loss: 1.607\n",
      "[Epoch: 1, Batch:   30 /  125], loss: 1.546\n",
      "[Epoch: 1, Batch:   40 /  125], loss: 1.391\n",
      "[Epoch: 1, Batch:   50 /  125], loss: 1.260\n",
      "[Epoch: 1, Batch:   60 /  125], loss: 1.400\n",
      "[Epoch: 1, Batch:   70 /  125], loss: 1.232\n",
      "[Epoch: 1, Batch:   80 /  125], loss: 1.090\n",
      "[Epoch: 1, Batch:   90 /  125], loss: 0.951\n",
      "[Epoch: 1, Batch:  100 /  125], loss: 0.908\n",
      "[Epoch: 1, Batch:  110 /  125], loss: 1.010\n",
      "[Epoch: 1, Batch:  120 /  125], loss: 0.916\n",
      "Valid accuracy: 56 %\n",
      "[Epoch: 2, Batch:   10 /  125], loss: 0.936\n",
      "[Epoch: 2, Batch:   20 /  125], loss: 0.936\n",
      "[Epoch: 2, Batch:   30 /  125], loss: 0.822\n",
      "[Epoch: 2, Batch:   40 /  125], loss: 0.849\n",
      "[Epoch: 2, Batch:   50 /  125], loss: 0.768\n",
      "[Epoch: 2, Batch:   60 /  125], loss: 0.759\n",
      "[Epoch: 2, Batch:   70 /  125], loss: 0.755\n",
      "[Epoch: 2, Batch:   80 /  125], loss: 0.719\n",
      "[Epoch: 2, Batch:   90 /  125], loss: 0.793\n",
      "[Epoch: 2, Batch:  100 /  125], loss: 0.670\n",
      "[Epoch: 2, Batch:  110 /  125], loss: 0.694\n",
      "[Epoch: 2, Batch:  120 /  125], loss: 0.689\n",
      "Valid accuracy: 65 %\n",
      "[Epoch: 3, Batch:   10 /  125], loss: 0.667\n",
      "[Epoch: 3, Batch:   20 /  125], loss: 0.645\n",
      "[Epoch: 3, Batch:   30 /  125], loss: 0.716\n",
      "[Epoch: 3, Batch:   40 /  125], loss: 0.692\n",
      "[Epoch: 3, Batch:   50 /  125], loss: 0.673\n",
      "[Epoch: 3, Batch:   60 /  125], loss: 0.600\n",
      "[Epoch: 3, Batch:   70 /  125], loss: 0.720\n",
      "[Epoch: 3, Batch:   80 /  125], loss: 0.749\n",
      "[Epoch: 3, Batch:   90 /  125], loss: 0.642\n",
      "[Epoch: 3, Batch:  100 /  125], loss: 0.687\n",
      "[Epoch: 3, Batch:  110 /  125], loss: 0.489\n",
      "[Epoch: 3, Batch:  120 /  125], loss: 0.503\n",
      "Valid accuracy: 70 %\n",
      "[Epoch: 4, Batch:   10 /  125], loss: 0.616\n",
      "[Epoch: 4, Batch:   20 /  125], loss: 0.542\n",
      "[Epoch: 4, Batch:   30 /  125], loss: 0.592\n",
      "[Epoch: 4, Batch:   40 /  125], loss: 0.596\n",
      "[Epoch: 4, Batch:   50 /  125], loss: 0.518\n",
      "[Epoch: 4, Batch:   60 /  125], loss: 0.520\n",
      "[Epoch: 4, Batch:   70 /  125], loss: 0.639\n",
      "[Epoch: 4, Batch:   80 /  125], loss: 0.466\n",
      "[Epoch: 4, Batch:   90 /  125], loss: 0.565\n",
      "[Epoch: 4, Batch:  100 /  125], loss: 0.478\n",
      "[Epoch: 4, Batch:  110 /  125], loss: 0.524\n",
      "[Epoch: 4, Batch:  120 /  125], loss: 0.637\n",
      "Valid accuracy: 64 %\n",
      "[Epoch: 5, Batch:   10 /  125], loss: 0.543\n",
      "[Epoch: 5, Batch:   20 /  125], loss: 0.500\n",
      "[Epoch: 5, Batch:   30 /  125], loss: 0.562\n",
      "[Epoch: 5, Batch:   40 /  125], loss: 0.551\n",
      "[Epoch: 5, Batch:   50 /  125], loss: 0.596\n",
      "[Epoch: 5, Batch:   60 /  125], loss: 0.423\n",
      "[Epoch: 5, Batch:   70 /  125], loss: 0.442\n",
      "[Epoch: 5, Batch:   80 /  125], loss: 0.445\n",
      "[Epoch: 5, Batch:   90 /  125], loss: 0.537\n",
      "[Epoch: 5, Batch:  100 /  125], loss: 0.603\n",
      "[Epoch: 5, Batch:  110 /  125], loss: 0.457\n",
      "[Epoch: 5, Batch:  120 /  125], loss: 0.503\n",
      "Valid accuracy: 76 %\n",
      "[Epoch: 6, Batch:   10 /  125], loss: 0.448\n",
      "[Epoch: 6, Batch:   20 /  125], loss: 0.440\n",
      "[Epoch: 6, Batch:   30 /  125], loss: 0.423\n",
      "[Epoch: 6, Batch:   40 /  125], loss: 0.494\n",
      "[Epoch: 6, Batch:   50 /  125], loss: 0.512\n",
      "[Epoch: 6, Batch:   60 /  125], loss: 0.544\n",
      "[Epoch: 6, Batch:   70 /  125], loss: 0.542\n",
      "[Epoch: 6, Batch:   80 /  125], loss: 0.576\n",
      "[Epoch: 6, Batch:   90 /  125], loss: 0.499\n",
      "[Epoch: 6, Batch:  100 /  125], loss: 0.454\n",
      "[Epoch: 6, Batch:  110 /  125], loss: 0.557\n",
      "[Epoch: 6, Batch:  120 /  125], loss: 0.440\n",
      "Valid accuracy: 81 %\n",
      "[Epoch: 7, Batch:   10 /  125], loss: 0.452\n",
      "[Epoch: 7, Batch:   20 /  125], loss: 0.631\n",
      "[Epoch: 7, Batch:   30 /  125], loss: 0.383\n",
      "[Epoch: 7, Batch:   40 /  125], loss: 0.387\n",
      "[Epoch: 7, Batch:   50 /  125], loss: 0.413\n",
      "[Epoch: 7, Batch:   60 /  125], loss: 0.464\n",
      "[Epoch: 7, Batch:   70 /  125], loss: 0.555\n",
      "[Epoch: 7, Batch:   80 /  125], loss: 0.375\n",
      "[Epoch: 7, Batch:   90 /  125], loss: 0.521\n",
      "[Epoch: 7, Batch:  100 /  125], loss: 0.528\n",
      "[Epoch: 7, Batch:  110 /  125], loss: 0.465\n",
      "[Epoch: 7, Batch:  120 /  125], loss: 0.427\n",
      "Valid accuracy: 68 %\n",
      "[Epoch: 8, Batch:   10 /  125], loss: 0.427\n",
      "[Epoch: 8, Batch:   20 /  125], loss: 0.457\n",
      "[Epoch: 8, Batch:   30 /  125], loss: 0.457\n",
      "[Epoch: 8, Batch:   40 /  125], loss: 0.448\n",
      "[Epoch: 8, Batch:   50 /  125], loss: 0.441\n",
      "[Epoch: 8, Batch:   60 /  125], loss: 0.364\n",
      "[Epoch: 8, Batch:   70 /  125], loss: 0.451\n",
      "[Epoch: 8, Batch:   80 /  125], loss: 0.403\n",
      "[Epoch: 8, Batch:   90 /  125], loss: 0.444\n",
      "[Epoch: 8, Batch:  100 /  125], loss: 0.488\n",
      "[Epoch: 8, Batch:  110 /  125], loss: 0.500\n",
      "[Epoch: 8, Batch:  120 /  125], loss: 0.446\n",
      "Valid accuracy: 80 %\n",
      "[Epoch: 9, Batch:   10 /  125], loss: 0.365\n",
      "[Epoch: 9, Batch:   20 /  125], loss: 0.393\n",
      "[Epoch: 9, Batch:   30 /  125], loss: 0.450\n",
      "[Epoch: 9, Batch:   40 /  125], loss: 0.387\n",
      "[Epoch: 9, Batch:   50 /  125], loss: 0.411\n",
      "[Epoch: 9, Batch:   60 /  125], loss: 0.445\n",
      "[Epoch: 9, Batch:   70 /  125], loss: 0.413\n",
      "[Epoch: 9, Batch:   80 /  125], loss: 0.402\n",
      "[Epoch: 9, Batch:   90 /  125], loss: 0.288\n",
      "[Epoch: 9, Batch:  100 /  125], loss: 0.453\n",
      "[Epoch: 9, Batch:  110 /  125], loss: 0.498\n",
      "[Epoch: 9, Batch:  120 /  125], loss: 0.425\n",
      "Valid accuracy: 71 %\n",
      "[Epoch: 10, Batch:   10 /  125], loss: 0.495\n",
      "[Epoch: 10, Batch:   20 /  125], loss: 0.418\n",
      "[Epoch: 10, Batch:   30 /  125], loss: 0.415\n",
      "[Epoch: 10, Batch:   40 /  125], loss: 0.322\n",
      "[Epoch: 10, Batch:   50 /  125], loss: 0.394\n",
      "[Epoch: 10, Batch:   60 /  125], loss: 0.467\n",
      "[Epoch: 10, Batch:   70 /  125], loss: 0.376\n",
      "[Epoch: 10, Batch:   80 /  125], loss: 0.501\n",
      "[Epoch: 10, Batch:   90 /  125], loss: 0.404\n",
      "[Epoch: 10, Batch:  100 /  125], loss: 0.384\n",
      "[Epoch: 10, Batch:  110 /  125], loss: 0.487\n",
      "[Epoch: 10, Batch:  120 /  125], loss: 0.400\n",
      "Valid accuracy: 74 %\n",
      "[Epoch: 11, Batch:   10 /  125], loss: 0.522\n",
      "[Epoch: 11, Batch:   20 /  125], loss: 0.385\n",
      "[Epoch: 11, Batch:   30 /  125], loss: 0.385\n",
      "[Epoch: 11, Batch:   40 /  125], loss: 0.405\n",
      "[Epoch: 11, Batch:   50 /  125], loss: 0.331\n",
      "[Epoch: 11, Batch:   60 /  125], loss: 0.309\n",
      "[Epoch: 11, Batch:   70 /  125], loss: 0.337\n",
      "[Epoch: 11, Batch:   80 /  125], loss: 0.500\n",
      "[Epoch: 11, Batch:   90 /  125], loss: 0.433\n",
      "[Epoch: 11, Batch:  100 /  125], loss: 0.400\n",
      "[Epoch: 11, Batch:  110 /  125], loss: 0.477\n",
      "[Epoch: 11, Batch:  120 /  125], loss: 0.396\n",
      "Valid accuracy: 77 %\n",
      "[Epoch: 12, Batch:   10 /  125], loss: 0.387\n",
      "[Epoch: 12, Batch:   20 /  125], loss: 0.332\n",
      "[Epoch: 12, Batch:   30 /  125], loss: 0.433\n",
      "[Epoch: 12, Batch:   40 /  125], loss: 0.413\n",
      "[Epoch: 12, Batch:   50 /  125], loss: 0.462\n",
      "[Epoch: 12, Batch:   60 /  125], loss: 0.393\n",
      "[Epoch: 12, Batch:   70 /  125], loss: 0.437\n",
      "[Epoch: 12, Batch:   80 /  125], loss: 0.249\n",
      "[Epoch: 12, Batch:   90 /  125], loss: 0.330\n",
      "[Epoch: 12, Batch:  100 /  125], loss: 0.319\n",
      "[Epoch: 12, Batch:  110 /  125], loss: 0.434\n",
      "[Epoch: 12, Batch:  120 /  125], loss: 0.383\n",
      "Valid accuracy: 84 %\n",
      "[Epoch: 13, Batch:   10 /  125], loss: 0.443\n",
      "[Epoch: 13, Batch:   20 /  125], loss: 0.307\n",
      "[Epoch: 13, Batch:   30 /  125], loss: 0.367\n",
      "[Epoch: 13, Batch:   40 /  125], loss: 0.402\n",
      "[Epoch: 13, Batch:   50 /  125], loss: 0.403\n",
      "[Epoch: 13, Batch:   60 /  125], loss: 0.332\n",
      "[Epoch: 13, Batch:   70 /  125], loss: 0.338\n",
      "[Epoch: 13, Batch:   80 /  125], loss: 0.350\n",
      "[Epoch: 13, Batch:   90 /  125], loss: 0.339\n",
      "[Epoch: 13, Batch:  100 /  125], loss: 0.355\n",
      "[Epoch: 13, Batch:  110 /  125], loss: 0.407\n",
      "[Epoch: 13, Batch:  120 /  125], loss: 0.498\n",
      "Valid accuracy: 72 %\n",
      "[Epoch: 14, Batch:   10 /  125], loss: 0.343\n",
      "[Epoch: 14, Batch:   20 /  125], loss: 0.384\n",
      "[Epoch: 14, Batch:   30 /  125], loss: 0.365\n",
      "[Epoch: 14, Batch:   40 /  125], loss: 0.369\n",
      "[Epoch: 14, Batch:   50 /  125], loss: 0.484\n",
      "[Epoch: 14, Batch:   60 /  125], loss: 0.622\n",
      "[Epoch: 14, Batch:   70 /  125], loss: 0.303\n",
      "[Epoch: 14, Batch:   80 /  125], loss: 0.327\n",
      "[Epoch: 14, Batch:   90 /  125], loss: 0.450\n",
      "[Epoch: 14, Batch:  100 /  125], loss: 0.322\n",
      "[Epoch: 14, Batch:  110 /  125], loss: 0.454\n",
      "[Epoch: 14, Batch:  120 /  125], loss: 0.302\n",
      "Valid accuracy: 73 %\n",
      "[Epoch: 15, Batch:   10 /  125], loss: 0.398\n",
      "[Epoch: 15, Batch:   20 /  125], loss: 0.392\n",
      "[Epoch: 15, Batch:   30 /  125], loss: 0.412\n",
      "[Epoch: 15, Batch:   40 /  125], loss: 0.410\n",
      "[Epoch: 15, Batch:   50 /  125], loss: 0.351\n",
      "[Epoch: 15, Batch:   60 /  125], loss: 0.362\n",
      "[Epoch: 15, Batch:   70 /  125], loss: 0.327\n",
      "[Epoch: 15, Batch:   80 /  125], loss: 0.416\n",
      "[Epoch: 15, Batch:   90 /  125], loss: 0.299\n",
      "[Epoch: 15, Batch:  100 /  125], loss: 0.404\n",
      "[Epoch: 15, Batch:  110 /  125], loss: 0.362\n",
      "[Epoch: 15, Batch:  120 /  125], loss: 0.323\n",
      "Valid accuracy: 85 %\n"
     ]
    }
   ],
   "source": [
    "train(pointnet, train_loader, valid_loader,  save=False)"
   ]
  },
  {
   "cell_type": "code",
   "execution_count": 21,
   "metadata": {},
   "outputs": [],
   "source": [
    "from sklearn.metrics import confusion_matrix"
   ]
  },
  {
   "cell_type": "code",
   "execution_count": 22,
   "metadata": {},
   "outputs": [],
   "source": [
    "#pointnet.load_state_dict(torch.load('save_14.pth'))\n",
    "pointnet.eval();"
   ]
  },
  {
   "cell_type": "code",
   "execution_count": 23,
   "metadata": {},
   "outputs": [
    {
     "name": "stdout",
     "output_type": "stream",
     "text": [
      "Batch [   1 /   15]\n",
      "Batch [   2 /   15]\n",
      "Batch [   3 /   15]\n",
      "Batch [   4 /   15]\n",
      "Batch [   5 /   15]\n",
      "Batch [   6 /   15]\n",
      "Batch [   7 /   15]\n",
      "Batch [   8 /   15]\n",
      "Batch [   9 /   15]\n",
      "Batch [  10 /   15]\n",
      "Batch [  11 /   15]\n",
      "Batch [  12 /   15]\n",
      "Batch [  13 /   15]\n",
      "Batch [  14 /   15]\n",
      "Batch [  15 /   15]\n"
     ]
    }
   ],
   "source": [
    "all_preds = []\n",
    "all_labels = []\n",
    "with torch.no_grad():\n",
    "    for i, data in enumerate(valid_loader):\n",
    "        print('Batch [%4d / %4d]' % (i+1, len(valid_loader)))\n",
    "                   \n",
    "        inputs, labels = data['pointcloud'].to(device).float(), data['category'].to(device)\n",
    "        outputs, __, __ = pointnet(inputs.transpose(1,2))\n",
    "        _, preds = torch.max(outputs.data, 1)\n",
    "        all_preds += list(preds.cpu().numpy())\n",
    "        all_labels += list(labels.cpu().numpy())"
   ]
  },
  {
   "cell_type": "code",
   "execution_count": 24,
   "metadata": {},
   "outputs": [
    {
     "data": {
      "text/plain": [
       "array([[40,  7,  0,  0,  0,  0,  0,  1,  1,  1],\n",
       "       [ 0, 88,  1,  0,  0,  0,  0,  1, 10,  0],\n",
       "       [ 0,  0, 98,  0,  0,  0,  0,  0,  0,  2],\n",
       "       [ 0,  0,  1, 64,  1,  0,  3,  4, 13,  0],\n",
       "       [ 0,  0,  0,  0, 64,  3, 14,  0,  1,  4],\n",
       "       [ 0,  0,  1,  0,  0, 90,  0,  0,  0,  9],\n",
       "       [ 0,  0,  1,  2, 14,  0, 50,  0, 15,  4],\n",
       "       [ 0,  4,  2,  1,  0,  0,  0, 91,  0,  2],\n",
       "       [ 0,  0,  0,  6,  0,  0,  0,  0, 94,  0],\n",
       "       [ 1,  0,  1,  0,  0,  0,  0,  0,  0, 98]])"
      ]
     },
     "execution_count": 24,
     "metadata": {},
     "output_type": "execute_result"
    }
   ],
   "source": [
    "cm = confusion_matrix(all_labels, all_preds);\n",
    "cm"
   ]
  },
  {
   "cell_type": "code",
   "execution_count": 25,
   "metadata": {},
   "outputs": [],
   "source": [
    "import itertools\n",
    "import numpy as np\n",
    "import matplotlib.pyplot as plt\n",
    "\n",
    "# function from https://deeplizard.com/learn/video/0LhiS6yu2qQ\n",
    "def plot_confusion_matrix(cm, classes, normalize=False, title='Confusion matrix', cmap=plt.cm.Blues):\n",
    "    if normalize:\n",
    "        cm = cm.astype('float') / cm.sum(axis=1)[:, np.newaxis]\n",
    "        print(\"Normalized confusion matrix\")\n",
    "    else:\n",
    "        print('Confusion matrix, without normalization')\n",
    "\n",
    "    plt.imshow(cm, interpolation='nearest', cmap=cmap)\n",
    "    plt.title(title)\n",
    "    plt.colorbar()\n",
    "    tick_marks = np.arange(len(classes))\n",
    "    plt.xticks(tick_marks, classes, rotation=45)\n",
    "    plt.yticks(tick_marks, classes)\n",
    "\n",
    "    fmt = '.2f' if normalize else 'd'\n",
    "    thresh = cm.max() / 2.\n",
    "    for i, j in itertools.product(range(cm.shape[0]), range(cm.shape[1])):\n",
    "        plt.text(j, i, format(cm[i, j], fmt), horizontalalignment=\"center\", color=\"white\" if cm[i, j] > thresh else \"black\")\n",
    "\n",
    "    plt.tight_layout()\n",
    "    plt.ylabel('True label')\n",
    "    plt.xlabel('Predicted label')"
   ]
  },
  {
   "cell_type": "code",
   "execution_count": 26,
   "metadata": {},
   "outputs": [
    {
     "name": "stdout",
     "output_type": "stream",
     "text": [
      "Normalized confusion matrix\n"
     ]
    },
    {
     "data": {
      "image/png": "[encoded data removed]",
      "text/plain": [
       "<Figure size 576x576 with 2 Axes>"
      ]
     },
     "metadata": {
      "needs_background": "light"
     },
     "output_type": "display_data"
    }
   ],
   "source": [
    "plt.figure(figsize=(8,8))\n",
    "plot_confusion_matrix(cm, list(classes.keys()), normalize=True)"
   ]
  }
 ],
 "metadata": {
  "kernelspec": {
   "display_name": "dl-final-env",
   "language": "python",
   "name": "python3"
  },
  "language_info": {
   "codemirror_mode": {
    "name": "ipython",
    "version": 3
   },
   "file_extension": ".py",
   "mimetype": "text/x-python",
   "name": "python",
   "nbconvert_exporter": "python",
   "pygments_lexer": "ipython3",
   "version": "3.9.7"
  },
  "orig_nbformat": 4
 },
 "nbformat": 4,
 "nbformat_minor": 2
}
